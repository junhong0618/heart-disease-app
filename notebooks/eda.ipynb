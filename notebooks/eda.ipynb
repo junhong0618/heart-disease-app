{
 "cells": [
  {
   "cell_type": "code",
   "execution_count": 2,
   "metadata": {},
   "outputs": [],
   "source": [
    "import streamlit as st\n",
    "import pandas as pd\n",
    "import joblib\n",
    "import matplotlib.pyplot as plt\n",
    "import seaborn as sns\n",
    "from sklearn.ensemble import RandomForestClassifier\n",
    "import os\n",
    "\n",
    "# Load dataset\n",
    "\n",
    "df = pd.read_csv(r\"C:\\Users\\JunHong\\OneDrive - Developer Program\\UTM\\S3.3_MRTB2173 AGILE DATA SCIENCE\\7_PMA\\heart_disease_project\\data\\heart_disease_cleaned.csv\")"
   ]
  },
  {
   "cell_type": "code",
   "execution_count": 3,
   "metadata": {},
   "outputs": [
    {
     "name": "stderr",
     "output_type": "stream",
     "text": [
      "C:\\Users\\JunHong\\AppData\\Local\\Temp\\ipykernel_9168\\1358524111.py:16: UserWarning: FigureCanvasAgg is non-interactive, and thus cannot be shown\n",
      "  plt.show()\n"
     ]
    }
   ],
   "source": [
    "import matplotlib.pyplot as plt\n",
    "import seaborn as sns\n",
    "\n",
    "# Set style\n",
    "sns.set(style=\"whitegrid\")\n",
    "\n",
    "# Plot distribution of numerical features\n",
    "num_cols = df.select_dtypes(include=['float64', 'int64']).columns\n",
    "\n",
    "plt.figure(figsize=(15, 12))\n",
    "for i, col in enumerate(num_cols):\n",
    "    plt.subplot(4, 4, i + 1)\n",
    "    sns.histplot(df[col], kde=True, bins=30, color=\"blue\")\n",
    "    plt.title(f'Distribution of {col}')\n",
    "plt.tight_layout()\n",
    "plt.show()"
   ]
  },
  {
   "cell_type": "code",
   "execution_count": 11,
   "metadata": {},
   "outputs": [
    {
     "name": "stderr",
     "output_type": "stream",
     "text": [
      "C:\\Users\\JunHong\\AppData\\Local\\Temp\\ipykernel_5720\\3462461125.py:8: UserWarning: FigureCanvasAgg is non-interactive, and thus cannot be shown\n",
      "  plt.show()\n"
     ]
    }
   ],
   "source": [
    "# Compute correlation matrix\n",
    "corr_matrix = df.corr()\n",
    "\n",
    "# Plot heatmap\n",
    "plt.figure(figsize=(12, 8))\n",
    "sns.heatmap(corr_matrix, annot=True, fmt=\".2f\", cmap=\"coolwarm\", linewidths=0.5)\n",
    "plt.title(\"Feature Correlation Heatmap\")\n",
    "plt.show()"
   ]
  },
  {
   "cell_type": "code",
   "execution_count": 4,
   "metadata": {},
   "outputs": [
    {
     "name": "stderr",
     "output_type": "stream",
     "text": [
      "C:\\Users\\JunHong\\AppData\\Local\\Temp\\ipykernel_9168\\1583403310.py:8: FutureWarning: \n",
      "\n",
      "Passing `palette` without assigning `hue` is deprecated and will be removed in v0.14.0. Assign the `x` variable to `hue` and set `legend=False` for the same effect.\n",
      "\n",
      "  sns.boxplot(x=df[target_col], y=df[col], palette=\"coolwarm\")\n",
      "C:\\Users\\JunHong\\AppData\\Local\\Temp\\ipykernel_9168\\1583403310.py:8: FutureWarning: \n",
      "\n",
      "Passing `palette` without assigning `hue` is deprecated and will be removed in v0.14.0. Assign the `x` variable to `hue` and set `legend=False` for the same effect.\n",
      "\n",
      "  sns.boxplot(x=df[target_col], y=df[col], palette=\"coolwarm\")\n",
      "C:\\Users\\JunHong\\AppData\\Local\\Temp\\ipykernel_9168\\1583403310.py:8: FutureWarning: \n",
      "\n",
      "Passing `palette` without assigning `hue` is deprecated and will be removed in v0.14.0. Assign the `x` variable to `hue` and set `legend=False` for the same effect.\n",
      "\n",
      "  sns.boxplot(x=df[target_col], y=df[col], palette=\"coolwarm\")\n",
      "C:\\Users\\JunHong\\AppData\\Local\\Temp\\ipykernel_9168\\1583403310.py:8: FutureWarning: \n",
      "\n",
      "Passing `palette` without assigning `hue` is deprecated and will be removed in v0.14.0. Assign the `x` variable to `hue` and set `legend=False` for the same effect.\n",
      "\n",
      "  sns.boxplot(x=df[target_col], y=df[col], palette=\"coolwarm\")\n",
      "C:\\Users\\JunHong\\AppData\\Local\\Temp\\ipykernel_9168\\1583403310.py:8: FutureWarning: \n",
      "\n",
      "Passing `palette` without assigning `hue` is deprecated and will be removed in v0.14.0. Assign the `x` variable to `hue` and set `legend=False` for the same effect.\n",
      "\n",
      "  sns.boxplot(x=df[target_col], y=df[col], palette=\"coolwarm\")\n",
      "C:\\Users\\JunHong\\AppData\\Local\\Temp\\ipykernel_9168\\1583403310.py:8: FutureWarning: \n",
      "\n",
      "Passing `palette` without assigning `hue` is deprecated and will be removed in v0.14.0. Assign the `x` variable to `hue` and set `legend=False` for the same effect.\n",
      "\n",
      "  sns.boxplot(x=df[target_col], y=df[col], palette=\"coolwarm\")\n",
      "C:\\Users\\JunHong\\AppData\\Local\\Temp\\ipykernel_9168\\1583403310.py:8: FutureWarning: \n",
      "\n",
      "Passing `palette` without assigning `hue` is deprecated and will be removed in v0.14.0. Assign the `x` variable to `hue` and set `legend=False` for the same effect.\n",
      "\n",
      "  sns.boxplot(x=df[target_col], y=df[col], palette=\"coolwarm\")\n",
      "C:\\Users\\JunHong\\AppData\\Local\\Temp\\ipykernel_9168\\1583403310.py:8: FutureWarning: \n",
      "\n",
      "Passing `palette` without assigning `hue` is deprecated and will be removed in v0.14.0. Assign the `x` variable to `hue` and set `legend=False` for the same effect.\n",
      "\n",
      "  sns.boxplot(x=df[target_col], y=df[col], palette=\"coolwarm\")\n",
      "C:\\Users\\JunHong\\AppData\\Local\\Temp\\ipykernel_9168\\1583403310.py:8: FutureWarning: \n",
      "\n",
      "Passing `palette` without assigning `hue` is deprecated and will be removed in v0.14.0. Assign the `x` variable to `hue` and set `legend=False` for the same effect.\n",
      "\n",
      "  sns.boxplot(x=df[target_col], y=df[col], palette=\"coolwarm\")\n",
      "C:\\Users\\JunHong\\AppData\\Local\\Temp\\ipykernel_9168\\1583403310.py:8: FutureWarning: \n",
      "\n",
      "Passing `palette` without assigning `hue` is deprecated and will be removed in v0.14.0. Assign the `x` variable to `hue` and set `legend=False` for the same effect.\n",
      "\n",
      "  sns.boxplot(x=df[target_col], y=df[col], palette=\"coolwarm\")\n",
      "C:\\Users\\JunHong\\AppData\\Local\\Temp\\ipykernel_9168\\1583403310.py:8: FutureWarning: \n",
      "\n",
      "Passing `palette` without assigning `hue` is deprecated and will be removed in v0.14.0. Assign the `x` variable to `hue` and set `legend=False` for the same effect.\n",
      "\n",
      "  sns.boxplot(x=df[target_col], y=df[col], palette=\"coolwarm\")\n",
      "C:\\Users\\JunHong\\AppData\\Local\\Temp\\ipykernel_9168\\1583403310.py:8: FutureWarning: \n",
      "\n",
      "Passing `palette` without assigning `hue` is deprecated and will be removed in v0.14.0. Assign the `x` variable to `hue` and set `legend=False` for the same effect.\n",
      "\n",
      "  sns.boxplot(x=df[target_col], y=df[col], palette=\"coolwarm\")\n",
      "C:\\Users\\JunHong\\AppData\\Local\\Temp\\ipykernel_9168\\1583403310.py:8: FutureWarning: \n",
      "\n",
      "Passing `palette` without assigning `hue` is deprecated and will be removed in v0.14.0. Assign the `x` variable to `hue` and set `legend=False` for the same effect.\n",
      "\n",
      "  sns.boxplot(x=df[target_col], y=df[col], palette=\"coolwarm\")\n",
      "C:\\Users\\JunHong\\AppData\\Local\\Temp\\ipykernel_9168\\1583403310.py:8: FutureWarning: \n",
      "\n",
      "Passing `palette` without assigning `hue` is deprecated and will be removed in v0.14.0. Assign the `x` variable to `hue` and set `legend=False` for the same effect.\n",
      "\n",
      "  sns.boxplot(x=df[target_col], y=df[col], palette=\"coolwarm\")\n",
      "C:\\Users\\JunHong\\AppData\\Local\\Temp\\ipykernel_9168\\1583403310.py:8: FutureWarning: \n",
      "\n",
      "Passing `palette` without assigning `hue` is deprecated and will be removed in v0.14.0. Assign the `x` variable to `hue` and set `legend=False` for the same effect.\n",
      "\n",
      "  sns.boxplot(x=df[target_col], y=df[col], palette=\"coolwarm\")\n",
      "C:\\Users\\JunHong\\AppData\\Local\\Temp\\ipykernel_9168\\1583403310.py:8: FutureWarning: \n",
      "\n",
      "Passing `palette` without assigning `hue` is deprecated and will be removed in v0.14.0. Assign the `x` variable to `hue` and set `legend=False` for the same effect.\n",
      "\n",
      "  sns.boxplot(x=df[target_col], y=df[col], palette=\"coolwarm\")\n",
      "C:\\Users\\JunHong\\AppData\\Local\\Temp\\ipykernel_9168\\1583403310.py:11: UserWarning: FigureCanvasAgg is non-interactive, and thus cannot be shown\n",
      "  plt.show()\n"
     ]
    }
   ],
   "source": [
    "# Set target variable\n",
    "target_col = \"Heart_ stroke\"\n",
    "\n",
    "# Compare numerical features based on heart disease presence\n",
    "plt.figure(figsize=(15, 12))\n",
    "for i, col in enumerate(num_cols):\n",
    "    plt.subplot(4, 4, i + 1)\n",
    "    sns.boxplot(x=df[target_col], y=df[col], palette=\"coolwarm\")\n",
    "    plt.title(f'{col} vs {target_col}')\n",
    "plt.tight_layout()\n",
    "plt.show()"
   ]
  },
  {
   "cell_type": "code",
   "execution_count": 5,
   "metadata": {},
   "outputs": [],
   "source": [
    "# Countplot for categorical features\n",
    "cat_cols = df.select_dtypes(include=['object']).columns\n",
    "for col in cat_cols:\n",
    "    plt.figure(figsize=(6, 4))\n",
    "    sns.countplot(x=df[col])\n",
    "    plt.title(f\"Distribution of {col}\")\n",
    "    plt.xticks(rotation=45)\n",
    "    plt.show()"
   ]
  },
  {
   "cell_type": "code",
   "execution_count": 6,
   "metadata": {},
   "outputs": [
    {
     "name": "stderr",
     "output_type": "stream",
     "text": [
      "C:\\Users\\JunHong\\AppData\\Local\\Temp\\ipykernel_9168\\3598996024.py:6: UserWarning: FigureCanvasAgg is non-interactive, and thus cannot be shown\n",
      "  plt.show()\n",
      "C:\\Users\\JunHong\\AppData\\Local\\Temp\\ipykernel_9168\\3598996024.py:6: UserWarning: FigureCanvasAgg is non-interactive, and thus cannot be shown\n",
      "  plt.show()\n",
      "C:\\Users\\JunHong\\AppData\\Local\\Temp\\ipykernel_9168\\3598996024.py:6: UserWarning: FigureCanvasAgg is non-interactive, and thus cannot be shown\n",
      "  plt.show()\n",
      "C:\\Users\\JunHong\\AppData\\Local\\Temp\\ipykernel_9168\\3598996024.py:6: UserWarning: FigureCanvasAgg is non-interactive, and thus cannot be shown\n",
      "  plt.show()\n",
      "C:\\Users\\JunHong\\AppData\\Local\\Temp\\ipykernel_9168\\3598996024.py:6: UserWarning: FigureCanvasAgg is non-interactive, and thus cannot be shown\n",
      "  plt.show()\n",
      "C:\\Users\\JunHong\\AppData\\Local\\Temp\\ipykernel_9168\\3598996024.py:6: UserWarning: FigureCanvasAgg is non-interactive, and thus cannot be shown\n",
      "  plt.show()\n",
      "C:\\Users\\JunHong\\AppData\\Local\\Temp\\ipykernel_9168\\3598996024.py:6: UserWarning: FigureCanvasAgg is non-interactive, and thus cannot be shown\n",
      "  plt.show()\n",
      "C:\\Users\\JunHong\\AppData\\Local\\Temp\\ipykernel_9168\\3598996024.py:6: UserWarning: FigureCanvasAgg is non-interactive, and thus cannot be shown\n",
      "  plt.show()\n",
      "C:\\Users\\JunHong\\AppData\\Local\\Temp\\ipykernel_9168\\3598996024.py:6: UserWarning: FigureCanvasAgg is non-interactive, and thus cannot be shown\n",
      "  plt.show()\n",
      "C:\\Users\\JunHong\\AppData\\Local\\Temp\\ipykernel_9168\\3598996024.py:6: UserWarning: FigureCanvasAgg is non-interactive, and thus cannot be shown\n",
      "  plt.show()\n",
      "C:\\Users\\JunHong\\AppData\\Local\\Temp\\ipykernel_9168\\3598996024.py:6: UserWarning: FigureCanvasAgg is non-interactive, and thus cannot be shown\n",
      "  plt.show()\n",
      "C:\\Users\\JunHong\\AppData\\Local\\Temp\\ipykernel_9168\\3598996024.py:6: UserWarning: FigureCanvasAgg is non-interactive, and thus cannot be shown\n",
      "  plt.show()\n",
      "C:\\Users\\JunHong\\AppData\\Local\\Temp\\ipykernel_9168\\3598996024.py:6: UserWarning: FigureCanvasAgg is non-interactive, and thus cannot be shown\n",
      "  plt.show()\n",
      "C:\\Users\\JunHong\\AppData\\Local\\Temp\\ipykernel_9168\\3598996024.py:6: UserWarning: FigureCanvasAgg is non-interactive, and thus cannot be shown\n",
      "  plt.show()\n",
      "C:\\Users\\JunHong\\AppData\\Local\\Temp\\ipykernel_9168\\3598996024.py:6: UserWarning: FigureCanvasAgg is non-interactive, and thus cannot be shown\n",
      "  plt.show()\n",
      "C:\\Users\\JunHong\\AppData\\Local\\Temp\\ipykernel_9168\\3598996024.py:6: UserWarning: FigureCanvasAgg is non-interactive, and thus cannot be shown\n",
      "  plt.show()\n"
     ]
    }
   ],
   "source": [
    "# Boxplots for numerical features\n",
    "for col in num_cols:\n",
    "    plt.figure(figsize=(6, 4))\n",
    "    sns.boxplot(y=df[col])\n",
    "    plt.title(f\"Boxplot of {col}\")\n",
    "    plt.show()"
   ]
  },
  {
   "cell_type": "code",
   "execution_count": 7,
   "metadata": {},
   "outputs": [
    {
     "name": "stderr",
     "output_type": "stream",
     "text": [
      "C:\\Users\\JunHong\\AppData\\Local\\Temp\\ipykernel_9168\\392907556.py:3: UserWarning: FigureCanvasAgg is non-interactive, and thus cannot be shown\n",
      "  plt.show()\n"
     ]
    }
   ],
   "source": [
    "# Pairplot for numerical features\n",
    "sns.pairplot(df[num_cols])\n",
    "plt.show()"
   ]
  },
  {
   "cell_type": "code",
   "execution_count": null,
   "metadata": {},
   "outputs": [],
   "source": [
    "# Violin plots for numerical features\n",
    "for col in num_cols:\n",
    "    plt.figure(figsize=(6, 4))\n",
    "    sns.violinplot(y=df[col])\n",
    "    plt.title(f\"Violin Plot of {col}\")\n",
    "    plt.show()"
   ]
  },
  {
   "cell_type": "code",
   "execution_count": null,
   "metadata": {},
   "outputs": [],
   "source": [
    "# Bar plots for categorical features\n",
    "for col in cat_cols:\n",
    "    plt.figure(figsize=(6, 4))\n",
    "    df[col].value_counts().plot(kind='bar', color='skyblue', edgecolor='black')\n",
    "    plt.title(f\"Bar Plot of {col}\")\n",
    "    plt.xticks(rotation=45)\n",
    "    plt.show()"
   ]
  }
 ],
 "metadata": {
  "kernelspec": {
   "display_name": "Python 3",
   "language": "python",
   "name": "python3"
  },
  "language_info": {
   "codemirror_mode": {
    "name": "ipython",
    "version": 3
   },
   "file_extension": ".py",
   "mimetype": "text/x-python",
   "name": "python",
   "nbconvert_exporter": "python",
   "pygments_lexer": "ipython3",
   "version": "3.10.2"
  }
 },
 "nbformat": 4,
 "nbformat_minor": 2
}
